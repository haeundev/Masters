{
 "cells": [
  {
   "cell_type": "code",
   "execution_count": 638,
   "outputs": [],
   "source": [
    "import pandas as pd\n",
    "\n",
    "participant_number = 6170"
   ],
   "metadata": {
    "collapsed": false,
    "ExecuteTime": {
     "end_time": "2024-06-27T01:43:39.902033Z",
     "start_time": "2024-06-27T01:43:39.893626Z"
    }
   }
  },
  {
   "cell_type": "markdown",
   "source": [
    "## Define Functions"
   ],
   "metadata": {
    "collapsed": false
   }
  },
  {
   "cell_type": "code",
   "execution_count": 639,
   "outputs": [],
   "source": [
    "def process_evaluation_type_sheet(participant_number, sheet_name):\n",
    "    try:\n",
    "        df = pd.read_excel(f\"{participant_number}.xlsx\", sheet_name=sheet_name, header=None)\n",
    "        df = df.apply(lambda x: x.str.strip() if x.dtype == \"object\" else x)  # Remove whitespace\n",
    "        df.columns = [\"WORD\", \"IS_CORRECT\"]  # Assign column names\n",
    "        for i in range(len(df)):\n",
    "            if df[\"IS_CORRECT\"][i] == \"True\":\n",
    "                df[\"IS_CORRECT\"][i] = True\n",
    "            else:\n",
    "                df[\"IS_CORRECT\"][i] = False\n",
    "        print(f\"{sheet_name} sheet processed successfully.\")\n",
    "        return df\n",
    "    except Exception as e:\n",
    "        return None\n",
    "\n",
    "def process_training_type_sheet(participant_number, sheet_name):\n",
    "    try:\n",
    "        df = pd.read_excel(f\"{participant_number}.xlsx\", sheet_name=sheet_name, header=None)\n",
    "        df = df.apply(lambda x: x.str.strip() if x.dtype == \"object\" else x)  # Remove whitespace\n",
    "        df.columns = [\"WORD\", \"IS_CORRECT\", \"RESPONSE_TIME\"]  # Assign column names\n",
    "        for i in range(len(df)):\n",
    "            if df[\"IS_CORRECT\"][i] == \"True\":\n",
    "                df[\"IS_CORRECT\"][i] = True\n",
    "            else:\n",
    "                df[\"IS_CORRECT\"][i] = False\n",
    "        df[\"RESPONSE_TIME\"] = df[\"RESPONSE_TIME\"].astype(float)  # Convert \"RESPONSE_TIME\" to float\n",
    "        print(f\"{sheet_name} sheet processed successfully.\")\n",
    "        return df\n",
    "    except Exception as e:\n",
    "        return None"
   ],
   "metadata": {
    "collapsed": false,
    "ExecuteTime": {
     "end_time": "2024-06-27T01:43:39.904650Z",
     "start_time": "2024-06-27T01:43:39.900482Z"
    }
   }
  },
  {
   "cell_type": "markdown",
   "source": [
    "## Load Sheets"
   ],
   "metadata": {
    "collapsed": false
   }
  },
  {
   "cell_type": "code",
   "execution_count": 640,
   "outputs": [
    {
     "name": "stdout",
     "output_type": "stream",
     "text": [
      "PRE sheet processed successfully.\n"
     ]
    }
   ],
   "source": [
    "columns_for_evaluation_type = [\"WORD\", \"IS_CORRECT\"]\n",
    "df_pre = process_evaluation_type_sheet(participant_number, \"PRE\")\n",
    "df_mid = process_evaluation_type_sheet(participant_number, \"MID\")\n",
    "df_post = process_evaluation_type_sheet(participant_number, \"POST\")"
   ],
   "metadata": {
    "collapsed": false,
    "ExecuteTime": {
     "end_time": "2024-06-27T01:43:39.930856Z",
     "start_time": "2024-06-27T01:43:39.903934Z"
    }
   }
  },
  {
   "cell_type": "code",
   "execution_count": 641,
   "outputs": [
    {
     "name": "stdout",
     "output_type": "stream",
     "text": [
      "Session 1 sheet processed successfully.\n"
     ]
    },
    {
     "name": "stderr",
     "output_type": "stream",
     "text": [
      "/var/folders/60/ssxfrvx144d5wrq4gqq06rfw0000gp/T/ipykernel_16130/3113563077.py:23: SettingWithCopyWarning: \n",
      "A value is trying to be set on a copy of a slice from a DataFrame\n",
      "\n",
      "See the caveats in the documentation: https://pandas.pydata.org/pandas-docs/stable/user_guide/indexing.html#returning-a-view-versus-a-copy\n",
      "  df[\"IS_CORRECT\"][i] = True\n",
      "/var/folders/60/ssxfrvx144d5wrq4gqq06rfw0000gp/T/ipykernel_16130/3113563077.py:23: SettingWithCopyWarning: \n",
      "A value is trying to be set on a copy of a slice from a DataFrame\n",
      "\n",
      "See the caveats in the documentation: https://pandas.pydata.org/pandas-docs/stable/user_guide/indexing.html#returning-a-view-versus-a-copy\n",
      "  df[\"IS_CORRECT\"][i] = True\n",
      "/var/folders/60/ssxfrvx144d5wrq4gqq06rfw0000gp/T/ipykernel_16130/3113563077.py:23: SettingWithCopyWarning: \n",
      "A value is trying to be set on a copy of a slice from a DataFrame\n",
      "\n",
      "See the caveats in the documentation: https://pandas.pydata.org/pandas-docs/stable/user_guide/indexing.html#returning-a-view-versus-a-copy\n",
      "  df[\"IS_CORRECT\"][i] = True\n",
      "/var/folders/60/ssxfrvx144d5wrq4gqq06rfw0000gp/T/ipykernel_16130/3113563077.py:25: SettingWithCopyWarning: \n",
      "A value is trying to be set on a copy of a slice from a DataFrame\n",
      "\n",
      "See the caveats in the documentation: https://pandas.pydata.org/pandas-docs/stable/user_guide/indexing.html#returning-a-view-versus-a-copy\n",
      "  df[\"IS_CORRECT\"][i] = False\n",
      "/var/folders/60/ssxfrvx144d5wrq4gqq06rfw0000gp/T/ipykernel_16130/3113563077.py:23: SettingWithCopyWarning: \n",
      "A value is trying to be set on a copy of a slice from a DataFrame\n",
      "\n",
      "See the caveats in the documentation: https://pandas.pydata.org/pandas-docs/stable/user_guide/indexing.html#returning-a-view-versus-a-copy\n",
      "  df[\"IS_CORRECT\"][i] = True\n",
      "/var/folders/60/ssxfrvx144d5wrq4gqq06rfw0000gp/T/ipykernel_16130/3113563077.py:23: SettingWithCopyWarning: \n",
      "A value is trying to be set on a copy of a slice from a DataFrame\n",
      "\n",
      "See the caveats in the documentation: https://pandas.pydata.org/pandas-docs/stable/user_guide/indexing.html#returning-a-view-versus-a-copy\n",
      "  df[\"IS_CORRECT\"][i] = True\n",
      "/var/folders/60/ssxfrvx144d5wrq4gqq06rfw0000gp/T/ipykernel_16130/3113563077.py:25: SettingWithCopyWarning: \n",
      "A value is trying to be set on a copy of a slice from a DataFrame\n",
      "\n",
      "See the caveats in the documentation: https://pandas.pydata.org/pandas-docs/stable/user_guide/indexing.html#returning-a-view-versus-a-copy\n",
      "  df[\"IS_CORRECT\"][i] = False\n",
      "/var/folders/60/ssxfrvx144d5wrq4gqq06rfw0000gp/T/ipykernel_16130/3113563077.py:25: SettingWithCopyWarning: \n",
      "A value is trying to be set on a copy of a slice from a DataFrame\n",
      "\n",
      "See the caveats in the documentation: https://pandas.pydata.org/pandas-docs/stable/user_guide/indexing.html#returning-a-view-versus-a-copy\n",
      "  df[\"IS_CORRECT\"][i] = False\n",
      "/var/folders/60/ssxfrvx144d5wrq4gqq06rfw0000gp/T/ipykernel_16130/3113563077.py:23: SettingWithCopyWarning: \n",
      "A value is trying to be set on a copy of a slice from a DataFrame\n",
      "\n",
      "See the caveats in the documentation: https://pandas.pydata.org/pandas-docs/stable/user_guide/indexing.html#returning-a-view-versus-a-copy\n",
      "  df[\"IS_CORRECT\"][i] = True\n",
      "/var/folders/60/ssxfrvx144d5wrq4gqq06rfw0000gp/T/ipykernel_16130/3113563077.py:23: SettingWithCopyWarning: \n",
      "A value is trying to be set on a copy of a slice from a DataFrame\n",
      "\n",
      "See the caveats in the documentation: https://pandas.pydata.org/pandas-docs/stable/user_guide/indexing.html#returning-a-view-versus-a-copy\n",
      "  df[\"IS_CORRECT\"][i] = True\n",
      "/var/folders/60/ssxfrvx144d5wrq4gqq06rfw0000gp/T/ipykernel_16130/3113563077.py:23: SettingWithCopyWarning: \n",
      "A value is trying to be set on a copy of a slice from a DataFrame\n",
      "\n",
      "See the caveats in the documentation: https://pandas.pydata.org/pandas-docs/stable/user_guide/indexing.html#returning-a-view-versus-a-copy\n",
      "  df[\"IS_CORRECT\"][i] = True\n",
      "/var/folders/60/ssxfrvx144d5wrq4gqq06rfw0000gp/T/ipykernel_16130/3113563077.py:23: SettingWithCopyWarning: \n",
      "A value is trying to be set on a copy of a slice from a DataFrame\n",
      "\n",
      "See the caveats in the documentation: https://pandas.pydata.org/pandas-docs/stable/user_guide/indexing.html#returning-a-view-versus-a-copy\n",
      "  df[\"IS_CORRECT\"][i] = True\n",
      "/var/folders/60/ssxfrvx144d5wrq4gqq06rfw0000gp/T/ipykernel_16130/3113563077.py:23: SettingWithCopyWarning: \n",
      "A value is trying to be set on a copy of a slice from a DataFrame\n",
      "\n",
      "See the caveats in the documentation: https://pandas.pydata.org/pandas-docs/stable/user_guide/indexing.html#returning-a-view-versus-a-copy\n",
      "  df[\"IS_CORRECT\"][i] = True\n",
      "/var/folders/60/ssxfrvx144d5wrq4gqq06rfw0000gp/T/ipykernel_16130/3113563077.py:25: SettingWithCopyWarning: \n",
      "A value is trying to be set on a copy of a slice from a DataFrame\n",
      "\n",
      "See the caveats in the documentation: https://pandas.pydata.org/pandas-docs/stable/user_guide/indexing.html#returning-a-view-versus-a-copy\n",
      "  df[\"IS_CORRECT\"][i] = False\n",
      "/var/folders/60/ssxfrvx144d5wrq4gqq06rfw0000gp/T/ipykernel_16130/3113563077.py:23: SettingWithCopyWarning: \n",
      "A value is trying to be set on a copy of a slice from a DataFrame\n",
      "\n",
      "See the caveats in the documentation: https://pandas.pydata.org/pandas-docs/stable/user_guide/indexing.html#returning-a-view-versus-a-copy\n",
      "  df[\"IS_CORRECT\"][i] = True\n",
      "/var/folders/60/ssxfrvx144d5wrq4gqq06rfw0000gp/T/ipykernel_16130/3113563077.py:23: SettingWithCopyWarning: \n",
      "A value is trying to be set on a copy of a slice from a DataFrame\n",
      "\n",
      "See the caveats in the documentation: https://pandas.pydata.org/pandas-docs/stable/user_guide/indexing.html#returning-a-view-versus-a-copy\n",
      "  df[\"IS_CORRECT\"][i] = True\n",
      "/var/folders/60/ssxfrvx144d5wrq4gqq06rfw0000gp/T/ipykernel_16130/3113563077.py:23: SettingWithCopyWarning: \n",
      "A value is trying to be set on a copy of a slice from a DataFrame\n",
      "\n",
      "See the caveats in the documentation: https://pandas.pydata.org/pandas-docs/stable/user_guide/indexing.html#returning-a-view-versus-a-copy\n",
      "  df[\"IS_CORRECT\"][i] = True\n",
      "/var/folders/60/ssxfrvx144d5wrq4gqq06rfw0000gp/T/ipykernel_16130/3113563077.py:23: SettingWithCopyWarning: \n",
      "A value is trying to be set on a copy of a slice from a DataFrame\n",
      "\n",
      "See the caveats in the documentation: https://pandas.pydata.org/pandas-docs/stable/user_guide/indexing.html#returning-a-view-versus-a-copy\n",
      "  df[\"IS_CORRECT\"][i] = True\n",
      "/var/folders/60/ssxfrvx144d5wrq4gqq06rfw0000gp/T/ipykernel_16130/3113563077.py:25: SettingWithCopyWarning: \n",
      "A value is trying to be set on a copy of a slice from a DataFrame\n",
      "\n",
      "See the caveats in the documentation: https://pandas.pydata.org/pandas-docs/stable/user_guide/indexing.html#returning-a-view-versus-a-copy\n",
      "  df[\"IS_CORRECT\"][i] = False\n",
      "/var/folders/60/ssxfrvx144d5wrq4gqq06rfw0000gp/T/ipykernel_16130/3113563077.py:23: SettingWithCopyWarning: \n",
      "A value is trying to be set on a copy of a slice from a DataFrame\n",
      "\n",
      "See the caveats in the documentation: https://pandas.pydata.org/pandas-docs/stable/user_guide/indexing.html#returning-a-view-versus-a-copy\n",
      "  df[\"IS_CORRECT\"][i] = True\n",
      "/var/folders/60/ssxfrvx144d5wrq4gqq06rfw0000gp/T/ipykernel_16130/3113563077.py:23: SettingWithCopyWarning: \n",
      "A value is trying to be set on a copy of a slice from a DataFrame\n",
      "\n",
      "See the caveats in the documentation: https://pandas.pydata.org/pandas-docs/stable/user_guide/indexing.html#returning-a-view-versus-a-copy\n",
      "  df[\"IS_CORRECT\"][i] = True\n",
      "/var/folders/60/ssxfrvx144d5wrq4gqq06rfw0000gp/T/ipykernel_16130/3113563077.py:25: SettingWithCopyWarning: \n",
      "A value is trying to be set on a copy of a slice from a DataFrame\n",
      "\n",
      "See the caveats in the documentation: https://pandas.pydata.org/pandas-docs/stable/user_guide/indexing.html#returning-a-view-versus-a-copy\n",
      "  df[\"IS_CORRECT\"][i] = False\n",
      "/var/folders/60/ssxfrvx144d5wrq4gqq06rfw0000gp/T/ipykernel_16130/3113563077.py:23: SettingWithCopyWarning: \n",
      "A value is trying to be set on a copy of a slice from a DataFrame\n",
      "\n",
      "See the caveats in the documentation: https://pandas.pydata.org/pandas-docs/stable/user_guide/indexing.html#returning-a-view-versus-a-copy\n",
      "  df[\"IS_CORRECT\"][i] = True\n",
      "/var/folders/60/ssxfrvx144d5wrq4gqq06rfw0000gp/T/ipykernel_16130/3113563077.py:23: SettingWithCopyWarning: \n",
      "A value is trying to be set on a copy of a slice from a DataFrame\n",
      "\n",
      "See the caveats in the documentation: https://pandas.pydata.org/pandas-docs/stable/user_guide/indexing.html#returning-a-view-versus-a-copy\n",
      "  df[\"IS_CORRECT\"][i] = True\n",
      "/var/folders/60/ssxfrvx144d5wrq4gqq06rfw0000gp/T/ipykernel_16130/3113563077.py:23: SettingWithCopyWarning: \n",
      "A value is trying to be set on a copy of a slice from a DataFrame\n",
      "\n",
      "See the caveats in the documentation: https://pandas.pydata.org/pandas-docs/stable/user_guide/indexing.html#returning-a-view-versus-a-copy\n",
      "  df[\"IS_CORRECT\"][i] = True\n",
      "/var/folders/60/ssxfrvx144d5wrq4gqq06rfw0000gp/T/ipykernel_16130/3113563077.py:23: SettingWithCopyWarning: \n",
      "A value is trying to be set on a copy of a slice from a DataFrame\n",
      "\n",
      "See the caveats in the documentation: https://pandas.pydata.org/pandas-docs/stable/user_guide/indexing.html#returning-a-view-versus-a-copy\n",
      "  df[\"IS_CORRECT\"][i] = True\n",
      "/var/folders/60/ssxfrvx144d5wrq4gqq06rfw0000gp/T/ipykernel_16130/3113563077.py:23: SettingWithCopyWarning: \n",
      "A value is trying to be set on a copy of a slice from a DataFrame\n",
      "\n",
      "See the caveats in the documentation: https://pandas.pydata.org/pandas-docs/stable/user_guide/indexing.html#returning-a-view-versus-a-copy\n",
      "  df[\"IS_CORRECT\"][i] = True\n",
      "/var/folders/60/ssxfrvx144d5wrq4gqq06rfw0000gp/T/ipykernel_16130/3113563077.py:23: SettingWithCopyWarning: \n",
      "A value is trying to be set on a copy of a slice from a DataFrame\n",
      "\n",
      "See the caveats in the documentation: https://pandas.pydata.org/pandas-docs/stable/user_guide/indexing.html#returning-a-view-versus-a-copy\n",
      "  df[\"IS_CORRECT\"][i] = True\n",
      "/var/folders/60/ssxfrvx144d5wrq4gqq06rfw0000gp/T/ipykernel_16130/3113563077.py:23: SettingWithCopyWarning: \n",
      "A value is trying to be set on a copy of a slice from a DataFrame\n",
      "\n",
      "See the caveats in the documentation: https://pandas.pydata.org/pandas-docs/stable/user_guide/indexing.html#returning-a-view-versus-a-copy\n",
      "  df[\"IS_CORRECT\"][i] = True\n",
      "/var/folders/60/ssxfrvx144d5wrq4gqq06rfw0000gp/T/ipykernel_16130/3113563077.py:23: SettingWithCopyWarning: \n",
      "A value is trying to be set on a copy of a slice from a DataFrame\n",
      "\n",
      "See the caveats in the documentation: https://pandas.pydata.org/pandas-docs/stable/user_guide/indexing.html#returning-a-view-versus-a-copy\n",
      "  df[\"IS_CORRECT\"][i] = True\n",
      "/var/folders/60/ssxfrvx144d5wrq4gqq06rfw0000gp/T/ipykernel_16130/3113563077.py:23: SettingWithCopyWarning: \n",
      "A value is trying to be set on a copy of a slice from a DataFrame\n",
      "\n",
      "See the caveats in the documentation: https://pandas.pydata.org/pandas-docs/stable/user_guide/indexing.html#returning-a-view-versus-a-copy\n",
      "  df[\"IS_CORRECT\"][i] = True\n",
      "/var/folders/60/ssxfrvx144d5wrq4gqq06rfw0000gp/T/ipykernel_16130/3113563077.py:23: SettingWithCopyWarning: \n",
      "A value is trying to be set on a copy of a slice from a DataFrame\n",
      "\n",
      "See the caveats in the documentation: https://pandas.pydata.org/pandas-docs/stable/user_guide/indexing.html#returning-a-view-versus-a-copy\n",
      "  df[\"IS_CORRECT\"][i] = True\n",
      "/var/folders/60/ssxfrvx144d5wrq4gqq06rfw0000gp/T/ipykernel_16130/3113563077.py:25: SettingWithCopyWarning: \n",
      "A value is trying to be set on a copy of a slice from a DataFrame\n",
      "\n",
      "See the caveats in the documentation: https://pandas.pydata.org/pandas-docs/stable/user_guide/indexing.html#returning-a-view-versus-a-copy\n",
      "  df[\"IS_CORRECT\"][i] = False\n",
      "/var/folders/60/ssxfrvx144d5wrq4gqq06rfw0000gp/T/ipykernel_16130/3113563077.py:25: SettingWithCopyWarning: \n",
      "A value is trying to be set on a copy of a slice from a DataFrame\n",
      "\n",
      "See the caveats in the documentation: https://pandas.pydata.org/pandas-docs/stable/user_guide/indexing.html#returning-a-view-versus-a-copy\n",
      "  df[\"IS_CORRECT\"][i] = False\n",
      "/var/folders/60/ssxfrvx144d5wrq4gqq06rfw0000gp/T/ipykernel_16130/3113563077.py:25: SettingWithCopyWarning: \n",
      "A value is trying to be set on a copy of a slice from a DataFrame\n",
      "\n",
      "See the caveats in the documentation: https://pandas.pydata.org/pandas-docs/stable/user_guide/indexing.html#returning-a-view-versus-a-copy\n",
      "  df[\"IS_CORRECT\"][i] = False\n",
      "/var/folders/60/ssxfrvx144d5wrq4gqq06rfw0000gp/T/ipykernel_16130/3113563077.py:23: SettingWithCopyWarning: \n",
      "A value is trying to be set on a copy of a slice from a DataFrame\n",
      "\n",
      "See the caveats in the documentation: https://pandas.pydata.org/pandas-docs/stable/user_guide/indexing.html#returning-a-view-versus-a-copy\n",
      "  df[\"IS_CORRECT\"][i] = True\n",
      "/var/folders/60/ssxfrvx144d5wrq4gqq06rfw0000gp/T/ipykernel_16130/3113563077.py:23: SettingWithCopyWarning: \n",
      "A value is trying to be set on a copy of a slice from a DataFrame\n",
      "\n",
      "See the caveats in the documentation: https://pandas.pydata.org/pandas-docs/stable/user_guide/indexing.html#returning-a-view-versus-a-copy\n",
      "  df[\"IS_CORRECT\"][i] = True\n",
      "/var/folders/60/ssxfrvx144d5wrq4gqq06rfw0000gp/T/ipykernel_16130/3113563077.py:23: SettingWithCopyWarning: \n",
      "A value is trying to be set on a copy of a slice from a DataFrame\n",
      "\n",
      "See the caveats in the documentation: https://pandas.pydata.org/pandas-docs/stable/user_guide/indexing.html#returning-a-view-versus-a-copy\n",
      "  df[\"IS_CORRECT\"][i] = True\n",
      "/var/folders/60/ssxfrvx144d5wrq4gqq06rfw0000gp/T/ipykernel_16130/3113563077.py:23: SettingWithCopyWarning: \n",
      "A value is trying to be set on a copy of a slice from a DataFrame\n",
      "\n",
      "See the caveats in the documentation: https://pandas.pydata.org/pandas-docs/stable/user_guide/indexing.html#returning-a-view-versus-a-copy\n",
      "  df[\"IS_CORRECT\"][i] = True\n",
      "/var/folders/60/ssxfrvx144d5wrq4gqq06rfw0000gp/T/ipykernel_16130/3113563077.py:25: SettingWithCopyWarning: \n",
      "A value is trying to be set on a copy of a slice from a DataFrame\n",
      "\n",
      "See the caveats in the documentation: https://pandas.pydata.org/pandas-docs/stable/user_guide/indexing.html#returning-a-view-versus-a-copy\n",
      "  df[\"IS_CORRECT\"][i] = False\n",
      "/var/folders/60/ssxfrvx144d5wrq4gqq06rfw0000gp/T/ipykernel_16130/3113563077.py:23: SettingWithCopyWarning: \n",
      "A value is trying to be set on a copy of a slice from a DataFrame\n",
      "\n",
      "See the caveats in the documentation: https://pandas.pydata.org/pandas-docs/stable/user_guide/indexing.html#returning-a-view-versus-a-copy\n",
      "  df[\"IS_CORRECT\"][i] = True\n",
      "/var/folders/60/ssxfrvx144d5wrq4gqq06rfw0000gp/T/ipykernel_16130/3113563077.py:23: SettingWithCopyWarning: \n",
      "A value is trying to be set on a copy of a slice from a DataFrame\n",
      "\n",
      "See the caveats in the documentation: https://pandas.pydata.org/pandas-docs/stable/user_guide/indexing.html#returning-a-view-versus-a-copy\n",
      "  df[\"IS_CORRECT\"][i] = True\n",
      "/var/folders/60/ssxfrvx144d5wrq4gqq06rfw0000gp/T/ipykernel_16130/3113563077.py:23: SettingWithCopyWarning: \n",
      "A value is trying to be set on a copy of a slice from a DataFrame\n",
      "\n",
      "See the caveats in the documentation: https://pandas.pydata.org/pandas-docs/stable/user_guide/indexing.html#returning-a-view-versus-a-copy\n",
      "  df[\"IS_CORRECT\"][i] = True\n",
      "/var/folders/60/ssxfrvx144d5wrq4gqq06rfw0000gp/T/ipykernel_16130/3113563077.py:23: SettingWithCopyWarning: \n",
      "A value is trying to be set on a copy of a slice from a DataFrame\n",
      "\n",
      "See the caveats in the documentation: https://pandas.pydata.org/pandas-docs/stable/user_guide/indexing.html#returning-a-view-versus-a-copy\n",
      "  df[\"IS_CORRECT\"][i] = True\n",
      "/var/folders/60/ssxfrvx144d5wrq4gqq06rfw0000gp/T/ipykernel_16130/3113563077.py:23: SettingWithCopyWarning: \n",
      "A value is trying to be set on a copy of a slice from a DataFrame\n",
      "\n",
      "See the caveats in the documentation: https://pandas.pydata.org/pandas-docs/stable/user_guide/indexing.html#returning-a-view-versus-a-copy\n",
      "  df[\"IS_CORRECT\"][i] = True\n",
      "/var/folders/60/ssxfrvx144d5wrq4gqq06rfw0000gp/T/ipykernel_16130/3113563077.py:25: SettingWithCopyWarning: \n",
      "A value is trying to be set on a copy of a slice from a DataFrame\n",
      "\n",
      "See the caveats in the documentation: https://pandas.pydata.org/pandas-docs/stable/user_guide/indexing.html#returning-a-view-versus-a-copy\n",
      "  df[\"IS_CORRECT\"][i] = False\n",
      "/var/folders/60/ssxfrvx144d5wrq4gqq06rfw0000gp/T/ipykernel_16130/3113563077.py:25: SettingWithCopyWarning: \n",
      "A value is trying to be set on a copy of a slice from a DataFrame\n",
      "\n",
      "See the caveats in the documentation: https://pandas.pydata.org/pandas-docs/stable/user_guide/indexing.html#returning-a-view-versus-a-copy\n",
      "  df[\"IS_CORRECT\"][i] = False\n",
      "/var/folders/60/ssxfrvx144d5wrq4gqq06rfw0000gp/T/ipykernel_16130/3113563077.py:23: SettingWithCopyWarning: \n",
      "A value is trying to be set on a copy of a slice from a DataFrame\n",
      "\n",
      "See the caveats in the documentation: https://pandas.pydata.org/pandas-docs/stable/user_guide/indexing.html#returning-a-view-versus-a-copy\n",
      "  df[\"IS_CORRECT\"][i] = True\n",
      "/var/folders/60/ssxfrvx144d5wrq4gqq06rfw0000gp/T/ipykernel_16130/3113563077.py:23: SettingWithCopyWarning: \n",
      "A value is trying to be set on a copy of a slice from a DataFrame\n",
      "\n",
      "See the caveats in the documentation: https://pandas.pydata.org/pandas-docs/stable/user_guide/indexing.html#returning-a-view-versus-a-copy\n",
      "  df[\"IS_CORRECT\"][i] = True\n",
      "/var/folders/60/ssxfrvx144d5wrq4gqq06rfw0000gp/T/ipykernel_16130/3113563077.py:23: SettingWithCopyWarning: \n",
      "A value is trying to be set on a copy of a slice from a DataFrame\n",
      "\n",
      "See the caveats in the documentation: https://pandas.pydata.org/pandas-docs/stable/user_guide/indexing.html#returning-a-view-versus-a-copy\n",
      "  df[\"IS_CORRECT\"][i] = True\n",
      "/var/folders/60/ssxfrvx144d5wrq4gqq06rfw0000gp/T/ipykernel_16130/3113563077.py:23: SettingWithCopyWarning: \n",
      "A value is trying to be set on a copy of a slice from a DataFrame\n",
      "\n",
      "See the caveats in the documentation: https://pandas.pydata.org/pandas-docs/stable/user_guide/indexing.html#returning-a-view-versus-a-copy\n",
      "  df[\"IS_CORRECT\"][i] = True\n",
      "/var/folders/60/ssxfrvx144d5wrq4gqq06rfw0000gp/T/ipykernel_16130/3113563077.py:23: SettingWithCopyWarning: \n",
      "A value is trying to be set on a copy of a slice from a DataFrame\n",
      "\n",
      "See the caveats in the documentation: https://pandas.pydata.org/pandas-docs/stable/user_guide/indexing.html#returning-a-view-versus-a-copy\n",
      "  df[\"IS_CORRECT\"][i] = True\n",
      "/var/folders/60/ssxfrvx144d5wrq4gqq06rfw0000gp/T/ipykernel_16130/3113563077.py:25: SettingWithCopyWarning: \n",
      "A value is trying to be set on a copy of a slice from a DataFrame\n",
      "\n",
      "See the caveats in the documentation: https://pandas.pydata.org/pandas-docs/stable/user_guide/indexing.html#returning-a-view-versus-a-copy\n",
      "  df[\"IS_CORRECT\"][i] = False\n",
      "/var/folders/60/ssxfrvx144d5wrq4gqq06rfw0000gp/T/ipykernel_16130/3113563077.py:23: SettingWithCopyWarning: \n",
      "A value is trying to be set on a copy of a slice from a DataFrame\n",
      "\n",
      "See the caveats in the documentation: https://pandas.pydata.org/pandas-docs/stable/user_guide/indexing.html#returning-a-view-versus-a-copy\n",
      "  df[\"IS_CORRECT\"][i] = True\n",
      "/var/folders/60/ssxfrvx144d5wrq4gqq06rfw0000gp/T/ipykernel_16130/3113563077.py:23: SettingWithCopyWarning: \n",
      "A value is trying to be set on a copy of a slice from a DataFrame\n",
      "\n",
      "See the caveats in the documentation: https://pandas.pydata.org/pandas-docs/stable/user_guide/indexing.html#returning-a-view-versus-a-copy\n",
      "  df[\"IS_CORRECT\"][i] = True\n",
      "/var/folders/60/ssxfrvx144d5wrq4gqq06rfw0000gp/T/ipykernel_16130/3113563077.py:23: SettingWithCopyWarning: \n",
      "A value is trying to be set on a copy of a slice from a DataFrame\n",
      "\n",
      "See the caveats in the documentation: https://pandas.pydata.org/pandas-docs/stable/user_guide/indexing.html#returning-a-view-versus-a-copy\n",
      "  df[\"IS_CORRECT\"][i] = True\n"
     ]
    }
   ],
   "source": [
    "columns_for_training_type = [\"WORD\", \"IS_CORRECT\", \"RESPONSE_TIME\"]\n",
    "df_session1 = process_training_type_sheet(participant_number, \"Session 1\")\n",
    "df_session2 = process_training_type_sheet(participant_number, \"Session 2\")\n",
    "df_session3 = process_training_type_sheet(participant_number, \"Session 3\")\n",
    "df_session4 = process_training_type_sheet(participant_number, \"Session 4\")\n",
    "df_session5 = process_training_type_sheet(participant_number, \"Session 5\")\n",
    "df_session6 = process_training_type_sheet(participant_number, \"Session 6\")\n",
    "df_session7 = process_training_type_sheet(participant_number, \"Session 7\")\n",
    "df_session8 = process_training_type_sheet(participant_number, \"Session 8\")"
   ],
   "metadata": {
    "collapsed": false,
    "ExecuteTime": {
     "end_time": "2024-06-27T01:43:39.972959Z",
     "start_time": "2024-06-27T01:43:39.928126Z"
    }
   }
  },
  {
   "cell_type": "code",
   "execution_count": 642,
   "outputs": [
    {
     "name": "stdout",
     "output_type": "stream",
     "text": [
      "Mini 1 sheet processed successfully.\n"
     ]
    }
   ],
   "source": [
    "df_mini1 = process_evaluation_type_sheet(participant_number, \"Mini 1\")\n",
    "df_mini2 = process_evaluation_type_sheet(participant_number, \"Mini 2\")\n",
    "df_mini3 = process_evaluation_type_sheet(participant_number, \"Mini 3\")\n",
    "df_mini4 = process_evaluation_type_sheet(participant_number, \"Mini 4\")\n",
    "df_mini5 = process_evaluation_type_sheet(participant_number, \"Mini 5\")\n",
    "df_mini6 = process_evaluation_type_sheet(participant_number, \"Mini 6\")\n",
    "df_mini7 = process_evaluation_type_sheet(participant_number, \"Mini 7\")\n",
    "df_mini8 = process_evaluation_type_sheet(participant_number, \"Mini 8\")"
   ],
   "metadata": {
    "collapsed": false,
    "ExecuteTime": {
     "end_time": "2024-06-27T01:43:40.014308Z",
     "start_time": "2024-06-27T01:43:39.973131Z"
    }
   }
  },
  {
   "cell_type": "markdown",
   "source": [
    "## Compare PRE, MID, POST"
   ],
   "metadata": {
    "collapsed": false
   }
  },
  {
   "cell_type": "code",
   "execution_count": 643,
   "outputs": [],
   "source": [
    "# compare accuracy of PRE, MID, POST\n",
    "def get_accuracy_average(df):    # cast to bool\n",
    "    if df is None:\n",
    "        return None\n",
    "    else:\n",
    "        return df[\"IS_CORRECT\"].value_counts().get(True, 0) / len(df) * 100"
   ],
   "metadata": {
    "collapsed": false,
    "ExecuteTime": {
     "end_time": "2024-06-27T01:43:40.014427Z",
     "start_time": "2024-06-27T01:43:40.011854Z"
    }
   }
  },
  {
   "cell_type": "code",
   "execution_count": 644,
   "outputs": [
    {
     "name": "stdout",
     "output_type": "stream",
     "text": [
      "{'PRE': 87.5, 'MID': None, 'POST': None}\n"
     ]
    }
   ],
   "source": [
    "pre_accuracy = get_accuracy_average(df_pre)\n",
    "mid_accuracy = get_accuracy_average(df_mid)\n",
    "post_accuracy = get_accuracy_average(df_post)\n",
    "\n",
    "result = {\n",
    "    \"PRE\": pre_accuracy,\n",
    "    \"MID\": mid_accuracy,\n",
    "    \"POST\": post_accuracy\n",
    "}\n",
    "\n",
    "print(result)"
   ],
   "metadata": {
    "collapsed": false,
    "ExecuteTime": {
     "end_time": "2024-06-27T01:43:40.018675Z",
     "start_time": "2024-06-27T01:43:40.015706Z"
    }
   }
  },
  {
   "cell_type": "markdown",
   "source": [
    "## Analyze Between Sessions"
   ],
   "metadata": {
    "collapsed": false
   }
  },
  {
   "cell_type": "code",
   "execution_count": 645,
   "outputs": [],
   "source": [
    "df_sessions = [df_session1, df_session2, df_session3, df_session4, df_session5, df_session6, df_session7, df_session8]\n",
    "df_sessions = [df for df in df_sessions if df is not None]\n"
   ],
   "metadata": {
    "collapsed": false,
    "ExecuteTime": {
     "end_time": "2024-06-27T01:43:40.020256Z",
     "start_time": "2024-06-27T01:43:40.017690Z"
    }
   }
  },
  {
   "cell_type": "code",
   "execution_count": 646,
   "outputs": [
    {
     "name": "stdout",
     "output_type": "stream",
     "text": [
      "True\n"
     ]
    }
   ],
   "source": [
    "def analyze_pre():\n",
    "    if df_pre is None:\n",
    "        return None\n",
    "\n",
    "    # count the number of \"True\" in the \"IS_CORRECT\" column\n",
    "    df = pd.DataFrame(df_pre)\n",
    "    # cast to bool\n",
    "    print(df_pre[\"IS_CORRECT\"][0] == True)\n",
    "\n",
    "analyze_pre()\n",
    "\n"
   ],
   "metadata": {
    "collapsed": false,
    "ExecuteTime": {
     "end_time": "2024-06-27T01:43:40.023806Z",
     "start_time": "2024-06-27T01:43:40.021723Z"
    }
   }
  },
  {
   "cell_type": "code",
   "execution_count": 646,
   "outputs": [],
   "source": [],
   "metadata": {
    "collapsed": false,
    "ExecuteTime": {
     "end_time": "2024-06-27T01:43:40.025414Z",
     "start_time": "2024-06-27T01:43:40.023705Z"
    }
   }
  },
  {
   "cell_type": "code",
   "execution_count": 646,
   "outputs": [],
   "source": [],
   "metadata": {
    "collapsed": false,
    "ExecuteTime": {
     "end_time": "2024-06-27T01:43:40.028277Z",
     "start_time": "2024-06-27T01:43:40.027210Z"
    }
   }
  }
 ],
 "metadata": {
  "kernelspec": {
   "display_name": "Python 3",
   "language": "python",
   "name": "python3"
  },
  "language_info": {
   "codemirror_mode": {
    "name": "ipython",
    "version": 2
   },
   "file_extension": ".py",
   "mimetype": "text/x-python",
   "name": "python",
   "nbconvert_exporter": "python",
   "pygments_lexer": "ipython2",
   "version": "2.7.6"
  }
 },
 "nbformat": 4,
 "nbformat_minor": 0
}
