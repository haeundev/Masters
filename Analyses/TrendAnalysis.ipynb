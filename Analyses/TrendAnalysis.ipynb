{
 "cells": [
  {
   "cell_type": "code",
   "execution_count": 5,
   "metadata": {
    "collapsed": true,
    "ExecuteTime": {
     "end_time": "2024-08-28T10:26:41.226085Z",
     "start_time": "2024-08-28T10:26:41.222787Z"
    }
   },
   "outputs": [
    {
     "data": {
      "text/plain": "['9580.xlsx',\n '3709.xlsx',\n '8794.xlsx',\n '8624.xlsx',\n '728.xlsx',\n '3995.xlsx',\n '3691.xlsx',\n '1157.xlsx',\n '9052.xlsx']"
     },
     "execution_count": 5,
     "metadata": {},
     "output_type": "execute_result"
    }
   ],
   "source": [
    "import os\n",
    "\n",
    "# get xlsx files\n",
    "control_group_xlsx_files = [f for f in os.listdir(f'{os.getcwd()}/ControlGroup')]"
   ]
  },
  {
   "cell_type": "code",
   "execution_count": null,
   "outputs": [],
   "source": [],
   "metadata": {
    "collapsed": false
   }
  }
 ],
 "metadata": {
  "kernelspec": {
   "display_name": "Python 3",
   "language": "python",
   "name": "python3"
  },
  "language_info": {
   "codemirror_mode": {
    "name": "ipython",
    "version": 2
   },
   "file_extension": ".py",
   "mimetype": "text/x-python",
   "name": "python",
   "nbconvert_exporter": "python",
   "pygments_lexer": "ipython2",
   "version": "2.7.6"
  }
 },
 "nbformat": 4,
 "nbformat_minor": 0
}
